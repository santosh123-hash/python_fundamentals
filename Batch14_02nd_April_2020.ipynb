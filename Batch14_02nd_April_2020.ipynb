{
 "cells": [
  {
   "cell_type": "code",
   "execution_count": 1,
   "metadata": {},
   "outputs": [],
   "source": [
    "#Using get() to access the values"
   ]
  },
  {
   "cell_type": "code",
   "execution_count": 2,
   "metadata": {},
   "outputs": [],
   "source": [
    "alien_0={'color':'green','speed':'slow'}"
   ]
  },
  {
   "cell_type": "code",
   "execution_count": 3,
   "metadata": {},
   "outputs": [
    {
     "name": "stdout",
     "output_type": "stream",
     "text": [
      "{'color': 'green', 'speed': 'slow'}\n"
     ]
    }
   ],
   "source": [
    "print(alien_0)"
   ]
  },
  {
   "cell_type": "code",
   "execution_count": 4,
   "metadata": {},
   "outputs": [
    {
     "data": {
      "text/plain": [
       "dict"
      ]
     },
     "execution_count": 4,
     "metadata": {},
     "output_type": "execute_result"
    }
   ],
   "source": [
    "type(alien_0)"
   ]
  },
  {
   "cell_type": "code",
   "execution_count": 5,
   "metadata": {},
   "outputs": [
    {
     "ename": "NameError",
     "evalue": "name 'aliens_0' is not defined",
     "output_type": "error",
     "traceback": [
      "\u001b[1;31m---------------------------------------------------------------------------\u001b[0m",
      "\u001b[1;31mNameError\u001b[0m                                 Traceback (most recent call last)",
      "\u001b[1;32m<ipython-input-5-5ed990bba045>\u001b[0m in \u001b[0;36m<module>\u001b[1;34m\u001b[0m\n\u001b[1;32m----> 1\u001b[1;33m \u001b[0mprint\u001b[0m\u001b[1;33m(\u001b[0m\u001b[0maliens_0\u001b[0m\u001b[1;33m[\u001b[0m\u001b[1;34m'points'\u001b[0m\u001b[1;33m]\u001b[0m\u001b[1;33m)\u001b[0m\u001b[1;33m\u001b[0m\u001b[1;33m\u001b[0m\u001b[0m\n\u001b[0m",
      "\u001b[1;31mNameError\u001b[0m: name 'aliens_0' is not defined"
     ]
    }
   ],
   "source": [
    "print(aliens_0['points'])"
   ]
  },
  {
   "cell_type": "code",
   "execution_count": 6,
   "metadata": {},
   "outputs": [],
   "source": [
    "point_value=alien_0.get('points','no points value assigned')"
   ]
  },
  {
   "cell_type": "code",
   "execution_count": 7,
   "metadata": {},
   "outputs": [
    {
     "name": "stdout",
     "output_type": "stream",
     "text": [
      "no points value assigned\n"
     ]
    }
   ],
   "source": [
    "print(point_value)"
   ]
  },
  {
   "cell_type": "code",
   "execution_count": 8,
   "metadata": {},
   "outputs": [],
   "source": [
    "alien_0={'color':'green','speed':'slow'}"
   ]
  },
  {
   "cell_type": "code",
   "execution_count": 9,
   "metadata": {},
   "outputs": [],
   "source": [
    "point_value=alien_0.get('points','no point value assigned')"
   ]
  },
  {
   "cell_type": "code",
   "execution_count": 10,
   "metadata": {},
   "outputs": [
    {
     "name": "stdout",
     "output_type": "stream",
     "text": [
      "no point value assigned\n"
     ]
    }
   ],
   "source": [
    "print(point_value)"
   ]
  },
  {
   "cell_type": "code",
   "execution_count": 11,
   "metadata": {},
   "outputs": [],
   "source": [
    "#Looping through dictionaries"
   ]
  },
  {
   "cell_type": "code",
   "execution_count": 14,
   "metadata": {},
   "outputs": [],
   "source": [
    "user_0={\n",
    "    'username':'fayaz945',\n",
    "    'first':'shaik',\n",
    "    'last':'Faiyaz'\n",
    "}\n"
   ]
  },
  {
   "cell_type": "code",
   "execution_count": 20,
   "metadata": {},
   "outputs": [
    {
     "name": "stdout",
     "output_type": "stream",
     "text": [
      "\n",
      "key:username\n",
      "value:fayaz945\n",
      "\n",
      "key:first\n",
      "value:shaik\n",
      "\n",
      "key:last\n",
      "value:Faiyaz\n"
     ]
    }
   ],
   "source": [
    "for key,value in user_0.items():\n",
    "    print(f\"\\nkey:{key}\")\n",
    "    print(f\"value:{value}\")"
   ]
  },
  {
   "cell_type": "code",
   "execution_count": 21,
   "metadata": {},
   "outputs": [],
   "source": [
    "#General Synatx:\n",
    "# for temvar in mainvar:\n",
    "# print(tempvar)"
   ]
  },
  {
   "cell_type": "code",
   "execution_count": 22,
   "metadata": {},
   "outputs": [
    {
     "name": "stdout",
     "output_type": "stream",
     "text": [
      "\n",
      "x:username\n",
      "y:fayaz945\n",
      "\n",
      "x:first\n",
      "y:shaik\n",
      "\n",
      "x:last\n",
      "y:Faiyaz\n"
     ]
    }
   ],
   "source": [
    "for x,y in user_0.items():\n",
    "    print(f\"\\nx:{x}\")\n",
    "    print(f\"y:{y}\")"
   ]
  },
  {
   "cell_type": "code",
   "execution_count": 23,
   "metadata": {},
   "outputs": [],
   "source": [
    "#Enhancement of the code"
   ]
  },
  {
   "cell_type": "code",
   "execution_count": 24,
   "metadata": {},
   "outputs": [],
   "source": [
    "favourite_languages={\n",
    "    'neha':'python',\n",
    "    'sudhakar':'c',\n",
    "    'nitin':'ruby',\n",
    "    'srikanth':'sql',\n",
    "    'ram':'c++',\n",
    "    'zaheer':'python'\n",
    "}"
   ]
  },
  {
   "cell_type": "code",
   "execution_count": 25,
   "metadata": {},
   "outputs": [
    {
     "name": "stdout",
     "output_type": "stream",
     "text": [
      "Neha's favourite language is Python \n",
      "Sudhakar's favourite language is C \n",
      "Nitin's favourite language is Ruby \n",
      "Srikanth's favourite language is Sql \n",
      "Ram's favourite language is C++ \n",
      "Zaheer's favourite language is Python \n"
     ]
    }
   ],
   "source": [
    "for name,lang in favourite_languages.items():\n",
    "    print(f\"{name.title()}'s favourite language is {lang.title()} \")"
   ]
  },
  {
   "cell_type": "code",
   "execution_count": 26,
   "metadata": {},
   "outputs": [
    {
     "name": "stdout",
     "output_type": "stream",
     "text": [
      "Neha\n",
      "Sudhakar\n",
      "Nitin\n",
      "Srikanth\n",
      "Ram\n",
      "Zaheer\n"
     ]
    }
   ],
   "source": [
    "for name in favourite_languages.keys():\n",
    "    print(name.title())"
   ]
  },
  {
   "cell_type": "code",
   "execution_count": 27,
   "metadata": {},
   "outputs": [
    {
     "name": "stdout",
     "output_type": "stream",
     "text": [
      "Python\n",
      "C\n",
      "Ruby\n",
      "Sql\n",
      "C++\n",
      "Python\n"
     ]
    }
   ],
   "source": [
    "for lang in favourite_languages.values():\n",
    "    print(lang.title())"
   ]
  },
  {
   "cell_type": "code",
   "execution_count": 29,
   "metadata": {},
   "outputs": [],
   "source": [
    "#Looping through a dictionary in a particular order:A-Z"
   ]
  },
  {
   "cell_type": "code",
   "execution_count": 32,
   "metadata": {},
   "outputs": [
    {
     "name": "stdout",
     "output_type": "stream",
     "text": [
      "Neha,thank you for the survey!\n",
      "Nitin,thank you for the survey!\n",
      "Ram,thank you for the survey!\n",
      "Srikanth,thank you for the survey!\n",
      "Sudhakar,thank you for the survey!\n",
      "Zaheer,thank you for the survey!\n"
     ]
    }
   ],
   "source": [
    "for name in sorted (favourite_languages.keys()):\n",
    "    print(f\"{name.title()},thank you for the survey!\")"
   ]
  },
  {
   "cell_type": "code",
   "execution_count": null,
   "metadata": {},
   "outputs": [],
   "source": []
  }
 ],
 "metadata": {
  "kernelspec": {
   "display_name": "Python 3",
   "language": "python",
   "name": "python3"
  },
  "language_info": {
   "codemirror_mode": {
    "name": "ipython",
    "version": 3
   },
   "file_extension": ".py",
   "mimetype": "text/x-python",
   "name": "python",
   "nbconvert_exporter": "python",
   "pygments_lexer": "ipython3",
   "version": "3.7.6"
  }
 },
 "nbformat": 4,
 "nbformat_minor": 4
}
